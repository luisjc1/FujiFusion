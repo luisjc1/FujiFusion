{
 "cells": [
  {
   "cell_type": "code",
   "execution_count": 64,
   "metadata": {},
   "outputs": [],
   "source": [
    "import pandas as pd\n",
    "import csv\n",
    "import matplotlib.pyplot as plt\n",
    "from sklearn import linear_model\n",
    "from sklearn.model_selection import train_test_split\n",
    "from sklearn import metrics\n",
    "from sklearn.datasets import load_iris\n",
    "from sklearn.model_selection import cross_val_score\n",
    "from sklearn.tree import DecisionTreeClassifier\n",
    "\n",
    "file = '/Users/shekharkumar/hackmit-2018/RBC_CM-master/Dataset/features_ratings.csv'\n",
    "df = pd.read_csv(file)\n",
    "\n",
    "# df.groupby(['Tickers']).mean().reset_index()\n",
    "# df[['L_term_numrating']]\n",
    "# df.corr()\n",
    "# list(df.columns.values)"
   ]
  },
  {
   "cell_type": "code",
   "execution_count": 65,
   "metadata": {},
   "outputs": [],
   "source": [
    "def linear_model():\n",
    "    reg = linear_model.Lasso()\n",
    "    data = df[['Debt/EBITDA', 'FFO/Total debt', 'EBITDA/Interest', 'FFO/Interest', 'CFO/Debt', 'FFO/Net profit', 'NWC/Revenue',\n",
    "               'Current Assets/Current Liabilities', '(FFo+Cash)/Current Liabilities', 'EBITDA/Revenues', 'Cash/Total Debt',\n",
    "               'Total Debt/Tangible Net worth', 'Total Debt/Revenue', 'Debt/Capital', 'Cash/Asset', 'Total Fixed Capital/Total Fixed Assets',\n",
    "               'Equity/Asset', 'NWC/Total assets', 'Retained earnings/Total assets', 'EBITDA/Total assets etc']]\n",
    "    target = df[['L_term_numrating']]\n",
    "\n",
    "    X_train, X_test, y_train, y_test = train_test_split(data, target, test_size=0.3, random_state=42)\n",
    "\n",
    "    reg.fit(X_train,y_train)\n",
    "    y_pred = reg.predict(X_test)\n",
    "    \n",
    "    print('explained_variance_score: ', metrics.explained_variance_score(y_test, y_pred))\n",
    "    print('mean_absolute_error: ', metrics.mean_absolute_error(y_test, y_pred))\n",
    "    print('mean_squared_error: ', metrics.mean_squared_error(y_test, y_pred))\n",
    "    print('mean_squared_log_error: ', metrics.mean_squared_log_error(y_test, y_pred))\n",
    "    print('median_absolute_error: ', metrics.median_absolute_error(y_test, y_pred))\n",
    "    print('r2_score: ', metrics.r2_score(y_test, y_pred))\n"
   ]
  },
  {
   "cell_type": "code",
   "execution_count": 77,
   "metadata": {},
   "outputs": [],
   "source": [
    "def decision_tree():\n",
    "\n",
    "    data = df[['Debt/EBITDA', 'FFO/Total debt', 'EBITDA/Interest', 'FFO/Interest', 'CFO/Debt', 'FFO/Net profit', 'NWC/Revenue',\n",
    "                   'Current Assets/Current Liabilities', '(FFo+Cash)/Current Liabilities', 'EBITDA/Revenues', 'Cash/Total Debt',\n",
    "                   'Total Debt/Tangible Net worth', 'Total Debt/Revenue', 'Debt/Capital', 'Cash/Asset', 'Total Fixed Capital/Total Fixed Assets',\n",
    "                   'Equity/Asset', 'NWC/Total assets', 'Retained earnings/Total assets', 'EBITDA/Total assets etc']]\n",
    "    target = df[['L_term_rating']]\n",
    "\n",
    "    X_train, X_test, y_train, y_test = train_test_split(data, target, test_size=0.3, random_state=42)\n",
    "\n",
    "    clf = DecisionTreeClassifier(random_state=0)\n",
    "    clf.fit(X_train,y_train)\n",
    "    y_pred = clf.predict(X_test)\n",
    "    metrics.accuracy_score(y_test, y_pred, normalize=True)\n"
   ]
  },
  {
   "cell_type": "code",
   "execution_count": null,
   "metadata": {},
   "outputs": [],
   "source": [
    "\n",
    "\n",
    "    data = df[['Debt/EBITDA', 'FFO/Total debt', 'EBITDA/Interest', 'FFO/Interest', 'CFO/Debt', 'FFO/Net profit', 'NWC/Revenue',\n",
    "                   'Current Assets/Current Liabilities', '(FFo+Cash)/Current Liabilities', 'EBITDA/Revenues', 'Cash/Total Debt',\n",
    "                   'Total Debt/Tangible Net worth', 'Total Debt/Revenue', 'Debt/Capital', 'Cash/Asset', 'Total Fixed Capital/Total Fixed Assets',\n",
    "                   'Equity/Asset', 'NWC/Total assets', 'Retained earnings/Total assets', 'EBITDA/Total assets etc']]\n",
    "    target = df[['L_term_rating']]\n",
    "\n",
    "    X_train, X_test, y_train, y_test = train_test_split(data, target, test_size=0.3, random_state=42)\n",
    "\n",
    "    clf = DecisionTreeClassifier(random_state=0)\n",
    "    clf.fit(X_train,y_train)\n",
    "    y_pred = clf.predict(X_test)\n",
    "    metrics.accuracy_score(y_test, y_pred, normalize=True)\n"
   ]
  }
 ],
 "metadata": {
  "kernelspec": {
   "display_name": "Python 3",
   "language": "python",
   "name": "python3"
  },
  "language_info": {
   "codemirror_mode": {
    "name": "ipython",
    "version": 3
   },
   "file_extension": ".py",
   "mimetype": "text/x-python",
   "name": "python",
   "nbconvert_exporter": "python",
   "pygments_lexer": "ipython3",
   "version": "3.6.0"
  }
 },
 "nbformat": 4,
 "nbformat_minor": 2
}
