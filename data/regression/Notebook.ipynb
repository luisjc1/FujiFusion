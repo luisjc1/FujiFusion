{
 "cells": [
  {
   "cell_type": "code",
   "execution_count": 23,
   "metadata": {},
   "outputs": [],
   "source": [
    "import pandas as pd\n",
    "import csv\n",
    "import matplotlib.pyplot as plt\n",
    "from sklearn import linear_model\n",
    "from sklearn.model_selection import train_test_split\n",
    "from sklearn import metrics\n",
    "from sklearn.datasets import load_iris\n",
    "from sklearn.model_selection import cross_val_score\n",
    "from sklearn.tree import DecisionTreeClassifier\n",
    "\n",
    "features_ratings_file = '/Users/shekharkumar/fujifusion-hackmit2018/RBC_CM-master/Dataset/features_ratings.csv'\n",
    "features_ratings = pd.read_csv(features_ratings_file)\n",
    "\n",
    "# df.groupby(['Tickers']).mean().reset_index()\n",
    "# df[['L_term_numrating']]\n",
    "# df.corr()\n",
    "# list(df.columns.values)"
   ]
  },
  {
   "cell_type": "code",
   "execution_count": 24,
   "metadata": {},
   "outputs": [],
   "source": [
    "ceo_data_file = '/Users/shekharkumar/fujifusion-hackmit2018/data/additional_data/ceo_data.csv'\n",
    "ceo_data = pd.read_csv(ceo_data_file)\n",
    "df = features_ratings.merge(ceo_data).reset_index()\n",
    "\n",
    "# f500_data_file = '/Users/shekharkumar/hackmit-2018/data/additional_data/f500_data.csv'\n",
    "# f500_data = pd.read_csv(f500_data_file)\n",
    "# f500_data\n",
    "\n",
    "df.to_csv('df.csv')"
   ]
  },
  {
   "cell_type": "code",
   "execution_count": 25,
   "metadata": {},
   "outputs": [
    {
     "name": "stdout",
     "output_type": "stream",
     "text": [
      "explained_variance_score:  0.60216530756\n",
      "mean_absolute_error:  1.37718895213\n",
      "mean_squared_error:  2.8052404427\n",
      "mean_squared_log_error:  0.295085071982\n",
      "median_absolute_error:  1.34375070733\n",
      "r2_score:  0.598121728301\n"
     ]
    }
   ],
   "source": [
    "\n",
    "reg = linear_model.Lasso()\n",
    "data = df[['Debt/EBITDA', 'FFO/Total debt', 'EBITDA/Interest', 'FFO/Interest', 'CFO/Debt', 'FFO/Net profit', 'NWC/Revenue',\n",
    "           'Current Assets/Current Liabilities', '(FFo+Cash)/Current Liabilities', 'EBITDA/Revenues', 'Cash/Total Debt',\n",
    "           'Total Debt/Tangible Net worth', 'Total Debt/Revenue', 'Debt/Capital', 'Cash/Asset', 'Total Fixed Capital/Total Fixed Assets',\n",
    "           'Equity/Asset', 'NWC/Total assets', 'Retained earnings/Total assets', 'EBITDA/Total assets etc',\n",
    "           'CEO Pay', 'Median Worker Pay', 'Pay Ratio']]\n",
    "target = df[['L_term_numrating']]\n",
    "\n",
    "X_train, X_test, y_train, y_test = train_test_split(data, target, test_size=0.3, random_state=42)\n",
    "\n",
    "reg.fit(X_train,y_train)\n",
    "y_pred = reg.predict(X_test)\n",
    "\n",
    "print('explained_variance_score: ', metrics.explained_variance_score(y_test, y_pred))\n",
    "print('mean_absolute_error: ', metrics.mean_absolute_error(y_test, y_pred))\n",
    "print('mean_squared_error: ', metrics.mean_squared_error(y_test, y_pred))\n",
    "print('mean_squared_log_error: ', metrics.mean_squared_log_error(y_test, y_pred))\n",
    "print('median_absolute_error: ', metrics.median_absolute_error(y_test, y_pred))\n",
    "print('r2_score: ', metrics.r2_score(y_test, y_pred))\n",
    "\n",
    "\n",
    "    "
   ]
  },
  {
   "cell_type": "code",
   "execution_count": 36,
   "metadata": {},
   "outputs": [
    {
     "data": {
      "text/plain": [
       "'Source.gv.png'"
      ]
     },
     "execution_count": 36,
     "metadata": {},
     "output_type": "execute_result"
    }
   ],
   "source": [
    "import graphviz\n",
    "from sklearn import tree\n",
    "\n",
    "# def decision_tree():\n",
    "\n",
    "data = df[['Debt/EBITDA', 'FFO/Total debt', 'EBITDA/Interest', 'FFO/Interest', 'CFO/Debt', 'FFO/Net profit', 'NWC/Revenue',\n",
    "               'Current Assets/Current Liabilities', '(FFo+Cash)/Current Liabilities', 'EBITDA/Revenues', 'Cash/Total Debt',\n",
    "               'Total Debt/Tangible Net worth', 'Total Debt/Revenue', 'Debt/Capital', 'Cash/Asset', 'Total Fixed Capital/Total Fixed Assets',\n",
    "               'Equity/Asset', 'NWC/Total assets', 'Retained earnings/Total assets', 'EBITDA/Total assets etc',\n",
    "               'CEO Pay', 'Median Worker Pay', 'Pay Ratio']]\n",
    "target = df[['L_term_rating']]\n",
    "\n",
    "X_train, X_test, y_train, y_test = train_test_split(data, target, test_size=0.3, random_state=42)\n",
    "\n",
    "# V1\n",
    "# clf = DecisionTreeClassifier(random_state=0)\n",
    "# clf.fit(X_train,y_train)\n",
    "# y_pred = clf.predict(X_test)\n",
    "# metrics.accuracy_score(y_test, y_pred, normalize=True)\n",
    "# dot_data = tree.export_graphviz(clf, out_file=None, \n",
    "#                          feature_names=iris.feature_names,  \n",
    "#                          class_names=iris.target_names,  \n",
    "#                          filled=True, rounded=True,  \n",
    "#                          special_characters=True)\n",
    "\n",
    "clf = DecisionTreeClassifier(random_state=0)\n",
    "clf.fit(X_train,y_train)\n",
    "# y_pred_all = clf.predict(data)\n",
    "# df['prediction'] = y_pred_all\n",
    "# df\n",
    "\n",
    "dot_data = tree.export_graphviz(clf, out_file=None) \n",
    "graph = graphviz.Source(dot_data) \n",
    "graph.render(\"credit ratings\") \n",
    "clf_feature_names = ['Debt/EBITDA', 'FFO/Total debt', 'EBITDA/Interest', 'FFO/Interest', 'CFO/Debt', 'FFO/Net profit', 'NWC/Revenue',\n",
    "               'Current Assets/Current Liabilities', '(FFo+Cash)/Current Liabilities', 'EBITDA/Revenues', 'Cash/Total Debt',\n",
    "               'Total Debt/Tangible Net worth', 'Total Debt/Revenue', 'Debt/Capital', 'Cash/Asset', 'Total Fixed Capital/Total Fixed Assets',\n",
    "               'Equity/Asset', 'NWC/Total assets', 'Retained earnings/Total assets', 'EBITDA/Total assets etc',\n",
    "               'CEO Pay', 'Median Worker Pay', 'Pay Ratio']\n",
    "clf_target_names = ['AAA', 'AA', 'A+', 'AA-', 'A', 'A-', 'BBB', 'BBB+', 'BBB-', 'BB', 'BB+']\n",
    "dot_data = tree.export_graphviz(clf, out_file=None, \n",
    "                         feature_names=clf_feature_names,  \n",
    "                         class_names=clf_target_names,  \n",
    "                         filled=True, rounded=True,  \n",
    "                         special_characters=True)  \n",
    "graph = graphviz.Source(dot_data,format='png')  \n",
    "graph.render()\n"
   ]
  },
  {
   "cell_type": "code",
   "execution_count": 19,
   "metadata": {},
   "outputs": [
    {
     "data": {
      "text/plain": [
       "array(['setosa', 'versicolor', 'virginica'],\n",
       "      dtype='<U10')"
      ]
     },
     "execution_count": 19,
     "metadata": {},
     "output_type": "execute_result"
    }
   ],
   "source": [
    "\n"
   ]
  },
  {
   "cell_type": "code",
   "execution_count": 258,
   "metadata": {},
   "outputs": [],
   "source": [
    "def plot_ratings():\n",
    "    df1 = df.groupby(['L_term_rating']).count().reset_index()[['L_term_rating','Tickers']]\n",
    "    x_count = np.arange(11)\n",
    "    x_tickers = df1['L_term_rating'].values.tolist()\n",
    "    y_plot = df1['Tickers'].values.tolist()\n",
    "    plt.xticks(x_count, (x_tickers))\n",
    "    plt.bar(x_count, y_plot)"
   ]
  },
  {
   "cell_type": "code",
   "execution_count": 262,
   "metadata": {},
   "outputs": [],
   "source": [
    "# TEST\n",
    "# df_out_f = '/Users/shekharkumar/hackmit-2018/data/regression/in.csv'\n",
    "# df_left = pd.read_csv(df_out_f)\n",
    "# df_right = df.groupby(['company','Tickers']).count().reset_index()[['company','Tickers']]\n",
    "# df = pd.merge(df_left, df_right, how='inner', left_on='companyName', right_on='company')\n",
    "# df.to_csv('out.csv')"
   ]
  },
  {
   "cell_type": "code",
   "execution_count": 274,
   "metadata": {},
   "outputs": [],
   "source": [
    "file_for_stephen = '/Users/shekharkumar/hackmit-2018/data/regression/in.csv'\n",
    "df = pd.read_csv(file_for_stephen)\n",
    "df.to_json(path_or_buf='json.json',orient='records')"
   ]
  },
  {
   "cell_type": "code",
   "execution_count": null,
   "metadata": {},
   "outputs": [],
   "source": []
  }
 ],
 "metadata": {
  "kernelspec": {
   "display_name": "Python 3",
   "language": "python",
   "name": "python3"
  },
  "language_info": {
   "codemirror_mode": {
    "name": "ipython",
    "version": 3
   },
   "file_extension": ".py",
   "mimetype": "text/x-python",
   "name": "python",
   "nbconvert_exporter": "python",
   "pygments_lexer": "ipython3",
   "version": "3.6.0"
  }
 },
 "nbformat": 4,
 "nbformat_minor": 2
}
